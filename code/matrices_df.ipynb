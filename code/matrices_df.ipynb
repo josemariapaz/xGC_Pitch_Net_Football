{
 "cells": [
  {
   "cell_type": "code",
   "execution_count": 1,
   "metadata": {},
   "outputs": [],
   "source": [
    "import pandas as pd\n",
    "import numpy as np"
   ]
  },
  {
   "cell_type": "code",
   "execution_count": 2,
   "metadata": {},
   "outputs": [],
   "source": [
    "df = pd.read_csv('../df/possessionsWithShots.csv')"
   ]
  },
  {
   "cell_type": "code",
   "execution_count": 3,
   "metadata": {},
   "outputs": [],
   "source": [
    "df = df.drop('Unnamed: 0',1)"
   ]
  },
  {
   "cell_type": "code",
   "execution_count": 4,
   "metadata": {},
   "outputs": [],
   "source": [
    "df = df[df['period'].isin([1,2])]"
   ]
  },
  {
   "cell_type": "code",
   "execution_count": 9,
   "metadata": {},
   "outputs": [
    {
     "name": "stderr",
     "output_type": "stream",
     "text": [
      "C:\\Users\\DELUX\\Anaconda3\\lib\\site-packages\\ipykernel_launcher.py:15: SettingWithCopyWarning: \n",
      "A value is trying to be set on a copy of a slice from a DataFrame.\n",
      "Try using .loc[row_indexer,col_indexer] = value instead\n",
      "\n",
      "See the caveats in the documentation: http://pandas.pydata.org/pandas-docs/stable/indexing.html#indexing-view-versus-copy\n",
      "  from ipykernel import kernelapp as app\n",
      "C:\\Users\\DELUX\\Anaconda3\\lib\\site-packages\\ipykernel_launcher.py:25: SettingWithCopyWarning: \n",
      "A value is trying to be set on a copy of a slice from a DataFrame.\n",
      "Try using .loc[row_indexer,col_indexer] = value instead\n",
      "\n",
      "See the caveats in the documentation: http://pandas.pydata.org/pandas-docs/stable/indexing.html#indexing-view-versus-copy\n",
      "C:\\Users\\DELUX\\Anaconda3\\lib\\site-packages\\ipykernel_launcher.py:31: SettingWithCopyWarning: \n",
      "A value is trying to be set on a copy of a slice from a DataFrame.\n",
      "Try using .loc[row_indexer,col_indexer] = value instead\n",
      "\n",
      "See the caveats in the documentation: http://pandas.pydata.org/pandas-docs/stable/indexing.html#indexing-view-versus-copy\n"
     ]
    }
   ],
   "source": [
    "teams = list(df['team'].unique())\n",
    "pass_matrices = []\n",
    "for team in teams:\n",
    "    team_temp = df[df['team']==team]\n",
    "    \n",
    "    intx = 40\n",
    "    team_temp['zone0'] = np.where((team_temp['x0']>=0)&(team_temp['x0']<intx)&(team_temp['y0']>=0)&(team_temp['y0']<18),'1',\n",
    "    np.where((team_temp['x0']>=intx)&(team_temp['x0']<intx*2)&(team_temp['y0']>=0)&(team_temp['y0']<18),'2',\n",
    "    np.where((team_temp['x0']>=intx*2)&(team_temp['x0']<=intx*3)&(team_temp['y0']>=0)&(team_temp['y0']<18),'3',\n",
    "    np.where((team_temp['x0']>=0)&(team_temp['x0']<intx)&(team_temp['y0']>=18)&(team_temp['y0']<62),'4',\n",
    "    np.where((team_temp['x0']>=intx)&(team_temp['x0']<intx*2)&(team_temp['y0']>=18)&(team_temp['y0']<62),'5',\n",
    "    np.where((team_temp['x0']>=intx*2)&(team_temp['x0']<=intx*3)&(team_temp['y0']>=18)&(team_temp['y0']<62),'6',    \n",
    "    np.where((team_temp['x0']>=0)&(team_temp['x0']<intx)&(team_temp['y0']>=62)&(team_temp['y0']<=80),'7',\n",
    "    np.where((team_temp['x0']>=intx)&(team_temp['x0']<intx*2)&(team_temp['y0']>=62)&(team_temp['y0']<=80),'8',\n",
    "    np.where((team_temp['x0']>=intx*2)&(team_temp['x0']<=intx*3)&(team_temp['y0']>=62)&(team_temp['y0']<=80),'9',False)))))))))\n",
    "    \n",
    "    team_temp['zone1'] = np.where((team_temp['x1']>=0)&(team_temp['x1']<intx)&(team_temp['y1']>=0)&(team_temp['y1']<18),'1',\n",
    "    np.where((team_temp['x1']>=intx)&(team_temp['x1']<intx*2)&(team_temp['y1']>=0)&(team_temp['y1']<18),'2',\n",
    "    np.where((team_temp['x1']>=intx*2)&(team_temp['x1']<=intx*3)&(team_temp['y1']>=0)&(team_temp['y1']<18),'3',\n",
    "    np.where((team_temp['x1']>=0)&(team_temp['x1']<intx)&(team_temp['y1']>=18)&(team_temp['y1']<62),'4',\n",
    "    np.where((team_temp['x1']>=intx)&(team_temp['x1']<intx*2)&(team_temp['y1']>=18)&(team_temp['y1']<62),'5',\n",
    "    np.where((team_temp['x1']>=intx*2)&(team_temp['x1']<=intx*3)&(team_temp['y1']>=18)&(team_temp['y1']<62),'6',    \n",
    "    np.where((team_temp['x1']>=0)&(team_temp['x1']<intx)&(team_temp['y1']>=62)&(team_temp['y1']<=80),'7',\n",
    "    np.where((team_temp['x1']>=intx)&(team_temp['x1']<intx*2)&(team_temp['y1']>=62)&(team_temp['y1']<=80),'8',\n",
    "    np.where((team_temp['x1']>=intx*2)&(team_temp['x1']<=intx*3)&(team_temp['y1']>=62)&(team_temp['y1']<=80),'9',False)))))))))\n",
    "    \n",
    "    matches = list(team_temp['id_match'].unique())\n",
    "    for match in matches:\n",
    "        team_temp_match = team_temp[team_temp['id_match']==match]\n",
    "        \n",
    "        team_temp_match['pair'] = team_temp_match['zone0']+'-'+team_temp_match['zone1']\n",
    "        team_temp_match = team_temp_match.groupby(['pair'])[['xg']].sum().reset_index()\n",
    "        team_temp_match['zone0'] = team_temp_match['pair'].str.extract(\"(.+)-\") \n",
    "        team_temp_match['zone1'] = team_temp_match['pair'].str.extract(\"-(.+)\")\n",
    "        team_temp_match['zone0'] = team_temp_match['zone0'].astype('int')\n",
    "        team_temp_match['zone1'] = team_temp_match['zone1'].astype('int')\n",
    "\n",
    "        mtrx_team_temp_match = team_temp_match.pivot(index='zone0',columns='zone1', values='xg')\n",
    "        mtrx_team_temp_match = mtrx_team_temp_match.fillna(0)\n",
    "\n",
    "        ## filling missing rows in the matrix\n",
    "        if (list(mtrx_team_temp_match.index) == list(range(1,10))) == False:\n",
    "            diff = list (set(list(range(1,10))) - set(mtrx_team_temp_match.index))\n",
    "            for i in range(len(diff)):\n",
    "                temp = diff[i]\n",
    "                mtrx_team_temp_match.loc[temp] = 0\n",
    "\n",
    "        ## filling missing columns in the matrix\n",
    "        if (list(mtrx_team_temp_match.columns) == list(range(1,10))) == False:\n",
    "            diff = list (set(list(range(1,10))) - set(mtrx_team_temp_match.columns))\n",
    "            for i in range(len(diff)):\n",
    "                temp = diff[i]\n",
    "                mtrx_team_temp_match[temp] = 0\n",
    "                \n",
    "        \n",
    "                \n",
    "        #trx_team_temp_match = mtrx_team_temp_match / mtrx_team_temp_match.sum().sum() * 100\n",
    "        \n",
    "        mtrx_team_temp_match = mtrx_team_temp_match[[1,2,3,4,5,6,7,8,9]]\n",
    "        \n",
    "        pass_matrices.append(mtrx_team_temp_match.sort_values('zone0'))\n",
    "               "
   ]
  },
  {
   "cell_type": "code",
   "execution_count": 10,
   "metadata": {},
   "outputs": [],
   "source": [
    "for matrix in range(len(pass_matrices)):\n",
    "    matrix_temp = pass_matrices[matrix]\n",
    "    matrix_temp.to_csv('{}{}'.format('../mtrx/',matrix))"
   ]
  },
  {
   "cell_type": "code",
   "execution_count": 11,
   "metadata": {},
   "outputs": [],
   "source": [
    "id_match = []\n",
    "team_matrix = []\n",
    "teams = list(df['team'].unique())\n",
    "for team in teams:\n",
    "    team_temp = df[df['team']==team]\n",
    "    matches = list(team_temp['id_match'].unique())\n",
    "    for match in matches:\n",
    "        id_match.append(match)\n",
    "        team_matrix.append(team)\n",
    "id_matrices = pd.DataFrame({'match':id_match,'team_matrix':team_matrix})\n",
    "id_matrices['id'] = id_matrices.index"
   ]
  },
  {
   "cell_type": "code",
   "execution_count": 12,
   "metadata": {},
   "outputs": [],
   "source": [
    "id_matrices.to_csv('../df/id_matrices.csv')"
   ]
  }
 ],
 "metadata": {
  "kernelspec": {
   "display_name": "Python 3",
   "language": "python",
   "name": "python3"
  },
  "language_info": {
   "codemirror_mode": {
    "name": "ipython",
    "version": 3
   },
   "file_extension": ".py",
   "mimetype": "text/x-python",
   "name": "python",
   "nbconvert_exporter": "python",
   "pygments_lexer": "ipython3",
   "version": "3.7.1"
  }
 },
 "nbformat": 4,
 "nbformat_minor": 2
}
